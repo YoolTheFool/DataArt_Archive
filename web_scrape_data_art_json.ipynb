{
 "cells": [
  {
   "cell_type": "code",
   "execution_count": 1,
   "metadata": {
    "collapsed": true
   },
   "outputs": [],
   "source": [
    "import requests"
   ]
  },
  {
   "cell_type": "code",
   "execution_count": 2,
   "metadata": {
    "collapsed": true
   },
   "outputs": [],
   "source": [
    "import re"
   ]
  },
  {
   "cell_type": "code",
   "execution_count": 3,
   "metadata": {
    "collapsed": true
   },
   "outputs": [],
   "source": [
    "from bs4 import BeautifulSoup"
   ]
  },
  {
   "cell_type": "code",
   "execution_count": 4,
   "metadata": {
    "collapsed": true
   },
   "outputs": [],
   "source": [
    "import json"
   ]
  },
  {
   "cell_type": "code",
   "execution_count": 5,
   "metadata": {
    "collapsed": true
   },
   "outputs": [],
   "source": [
    "# allison's polite code\n",
    "import time"
   ]
  },
  {
   "cell_type": "code",
   "execution_count": 35,
   "metadata": {},
   "outputs": [
    {
     "data": {
      "text/plain": [
       "'<!DOCTYPE html>\\r\\n<html lang=\"en\">\\r\\n<head>\\r\\n<meta http-equiv=\"Content-Type\" content=\"text/html; charset=UTF-8\">\\r\\n<title>UNHCR&nbsp;- Stories</title>\\r\\n<meta name=\"description\" content=\"\">\\r\\n<meta name=\"google-site-verification\" content=\"r7zQiqv6_dnMfXqEbNnksIQTQLnKtJtBz5f1UBe5B2E\" />    \\r\\n<meta name=\"keywords\" content=\"\">\\r\\n<meta name=\"language\" content=\"en\">\\r\\n<meta name=\"author\" content=\"United Nations High Commissioner for Refugees\">\\r\\n<link rel=\"shortcut icon\" type=\"image/ico\" href=\"http://www.unhcr.org/favicon.ico\" />\\r\\n<meta name=\"viewport\" content=\"width=device-width, initial-scale=1\">\\r\\n<meta http-equiv=\"X-UA-Compatible\" content=\"IE=edge\" />\\r\\n<link rel=\"apple-touch-icon\" href=\"http://www.unhcr.org/assets/img/unhcr-logo-apple-touch.png\" />\\r\\n<meta property=\"og:title\" content=\"Stories\">\\r\\n<meta property=\"og:type\" content=\"article\">\\r\\n<meta property=\"og:image\" content=\"http://www.unhcr.org/images/sharelogo.jpg\">\\r\\n<meta property=\"og:image:width\" content=\"200\">\\r\\n<meta property=\"og:image:height\" content=\"200\">                 \\r\\n<meta property=\"og:url\" content=\"\">               \\r\\n<meta property=\"og:site_name\" content=\"UNHCR\">\\r\\n<meta property=\"og:description\" content=\"\">  \\t\\r\\n<meta name=\"twitter:card\" content=\"summary_large_image\">\\r\\n<meta name=\"twitter:site\" content=\"@refugees\">\\r\\n<meta name=\"twitter:title\" content=\"Stories\">\\r\\n<meta name=\"twitter:description\" content=\"\">\\r\\n<meta name=\"twitter:creator\" content=\"@refugees\">\\r\\n<meta name=\"twitter:image:src\" content=\"http://www.unhcr.org/images/sharelogotwtr.jpg\">\\r\\n<meta name=\"twitter:domain\" content=\"http://www.unhcr.org/en-us\">\\r\\n<script src=\"https://platform.twitter.com/widgets.js\" charset=\"utf-8\"></script>    \\r\\n<script src=\"http://www.unhcr.org/assets/js/lib/jquery.min.js\"></script>    \\r\\n<meta name=\"twitter:widgets:theme\" content=\"light\">\\r\\n<meta name=\"twitter:widgets:link-color\" content=\"#55acee\">\\r\\n<meta name=\"twitter:widgets:border-color\" content=\"#55acee\">\\r\\n<meta name=\"msvalidate.01\" content=\"60776DB6DBF6FF7A8068AD51A3FEDAB9\" /><link href=\\'https://fonts.googleapis.com/css?family=Lato:400,900,700,300\\' rel=\\'stylesheet\\' type=\\'text/css\\'>\\r\\n<script src=\"http://www.unhcr.org/assets/js/lib/modernizr.min.js\"></script>\\r\\n<link href=\"http://www.unhcr.org/assets/css/custombox.min.css\" rel=\"stylesheet\" type=\"text/css\" media=\"all\" />\\r\\n<link href=\"http://www.unhcr.org/assets/css/jquery.fancybox.min.css\" rel=\"stylesheet\" type=\"text/css\" media=\"all\" />\\r\\n<link href=\"http://www.unhcr.org/assets/css/app.min.1.6.css\" rel=\"stylesheet\" type=\"text/css\" media=\"all\" />\\r\\n<link rel=\"stylesheet\" href=\"http://www.unhcr.org/assets/type/proximanova/stylesheet-proximanova.min.1.0.css\" type=\"text/css\" charset=\"utf-8\" />\\r\\n<link href=\"http://www.unhcr.org/cgi-bin/texis/vtx/home/rss.xml\" rel=\"alternate\" type=\"application/rss+xml\" title=\"UNHCR | News Feed\">\\r\\n\\r\\n\\r\\n      <script type=\"application/ld+json\">\\r\\n      {\\r\\n        \"@context\" : \"http://schema.org\",\\r\\n        \"@type\" : \"Organization\",\\r\\n        \"name\" : \"UNHCR, The UN Refugee Agency\",\\r\\n        \"url\" : \"http://www.unhcr.org\",\\r\\n        \"logo\": \"http://www.unhcr.org/assets/img/unhcr-logo.png\",        \\r\\n        \"sameAs\" : [\\r\\n          \"https://www.facebook.com/UNHCR\",\\r\\n          \"https://twitter.com/refugees\",\\r\\n          \"https://plus.google.com/+UNHCR/posts\",\\r\\n          \"https://www.youtube.com/user/unhcr\",\\r\\n          \"https://www.instagram.com/refugees/\",\\r\\n          \"https://www.pinterest.com/refugees/\"\\r\\n        ]\\r\\n      }\\r\\n      </script>\\r\\n      <!--49c3646c24e--><script type=\\'text/javascript\\'>\\r\\nvar _vwo_code=(function(){\\r\\nvar account_id=234213,\\r\\nsettings_tolerance=2000,\\r\\nlibrary_tolerance=2500,\\r\\nuse_existing_jquery=false,\\r\\n// DO NOT EDIT BELOW THIS LINE\\r\\nf=false,d=document;return{use_existing_jquery:function(){return use_existing_jquery;},library_tolerance:function(){return library_tolerance;},finish:function(){if(!f){f=true;var a=d.getElementById(\\'_vis_opt_path_hides\\');if(a)a.parentNode.removeChild(a);}},finished:function(){return f;},load:function(a){var b=d.createElement(\\'script\\');b.src=a;b.type=\\'text/javascript\\';b.innerText;b.onerror=function(){_vwo_code.finish();};d.getElementsByTagName(\\'head\\')[0].appendChild(b);},init:function(){settings_timer=setTimeout(\\'_vwo_code.finish()\\',settings_tolerance);var a=d.createElement(\\'style\\'),b=\\'body{opacity:0 !important;filter:alpha(opacity=0) !important;background:none !important;}\\',h=d.getElementsByTagName(\\'head\\')[0];a.setAttribute(\\'id\\',\\'_vis_opt_path_hides\\');a.setAttribute(\\'type\\',\\'text/css\\');if(a.styleSheet)a.styleSheet.cssText=b;else a.appendChild(d.createTextNode(b));h.appendChild(a);this.load(\\'//dev.visualwebsiteoptimizer.com/j.php?a=\\'+account_id+\\'&u=\\'+encodeURIComponent(d.URL)+\\'&r=\\'+Math.random());return settings_timer;}};}());_vwo_settings_timer=_vwo_code.init();\\r\\n</script>\\r\\n\\r\\n</head>\\r\\n<body data-pageid=\\'49c3646c24e\\'>\\r\\n<!-- Google Tag Manager www.unhcr.org/en-us -->\\r\\n<noscript><iframe src=\"//www.googletagmanager.com/ns.html?id=GTM-R6MF\"\\r\\nheight=\"0\" width=\"0\" style=\"display:none;visibility:hidden\"></iframe></noscript>\\r\\n<script>(function(w,d,s,l,i){w[l]=w[l]||[];w[l].push({\\'gtm.start\\':\\r\\nnew Date().getTime(),event:\\'gtm.js\\'});var f=d.getElementsByTagName(s)[0],\\r\\nj=d.createElement(s),dl=l!=\\'dataLayer\\'?\\'&l=\\'+l:\\'\\';j.async=true;j.src=\\r\\n\\'//www.googletagmanager.com/gtm.js?id=\\'+i+dl;f.parentNode.insertBefore(j,f);\\r\\n})(window,document,\\'script\\',\\'dataLayer\\',\\'GTM-R6MF\\');</script>\\r\\n<!-- End Google Tag Manager -->\\r\\n\\r\\n<div class=\"mbl--head\">\\r\\n<div class=\"logo\">\\r\\n\\r\\n<a href=\"http://www.unhcr.org/en-us/\"><img src=\"http://www.unhcr.org/assets/img/unhcr-logo-US.png\" alt=\"UNHCR logo\" /></a>\\r\\n</div>\\t\\t\\r\\n<div class=\"mbl--burger\">\\r\\n<button class=\"c-hamburger c-hamburger--htx\">\\r\\n<span>toggle menu</span>\\r\\n</button>\\r\\n</div> \\r\\n</div>\\r\\n<header><div class=\"header__wrapper\">\\r\\n<div class=\"logo\">\\r\\n<a href=\"http://www.unhcr.org/en-us/\"><img src=\"http://www.unhcr.org/assets/img/unhcr-logo-US.png\" alt=\"UNHCR logo\" /></a>\\r\\n</div>\\r\\n<div class=\"actions\">\\r\\n<ul>\\r\\n<li class=\"search\"><a href=\"#_\" title=\"Search\" id=\"headermenu-search\">Search</a></li>\\r\\n<li class=\"lang\"><a href=\"#_\" title=\"Global\" id=\"headermenu-globalmenu\">Global (US)</a></li>\\r\\n<li class=\"menu\"><a href=\"#_\" title=\"Menu\">Menu</a></li>\\r\\n</ul>\\r\\n<div class=\"un--settings\">\\r\\n<div class=\"settings__wrapper\">\\r\\n<div class=\"global--lang\">\\r\\n<p>Select a language for our global site</p>\\r\\n<div class=\"global--lang__select\">\\r\\n<a href=\"http://www.unhcr.org\" data-lang=\"en\">English</a>\\r\\n<a href=\"http://www.unhcr.org/fr/\" data-lang=\"fr\">Français</a>\\r\\n<a href=\"http://www.acnur.org\" data-lang=\"es\">Español</a>              \\r\\n<a href=\"http://www.unhcr.org/ar/\" data-lang=\"ar\">عربي</a>\\r\\n</div>\\r\\n</div>\\r\\n<fieldset class=\"gbl--country\">\\r\\n<legend>Select a country or regional site</legend>\\r\\n<div class=\"form--row\">\\r\\n<label for=\"ddl-country\" class=\"hidden\">Select a country or regional site</label>\\r\\n<select id=\"ddl--country\">\\r\\n<option data-mkt=\"en\" data-mkt-url=\"http://www.unhcr.org/afr\">Africa (English)</option>\\r\\n<option data-mkt=\"es-ar\" data-mkt-url=\"http://www.acnur.org\">Argentina (Español)</option>\\r\\n<option data-mkt=\"en-au\" data-mkt-url=\"http://unhcr.org.au\">Australia (English)</option>\\r\\n<option data-mkt=\"en-ru\" data-mkt-url=\"http://www.unhcr.org/by/\">Belarus (English | Русский)</option>\\r\\n<option data-mkt=\"(fr-nl\" data-mkt-url=\"http://www.unhcr.org/be\">Belgium (French | Dutch)</option>\\r\\n<option data-mkt=\"pt-br\" data-mkt-url=\"http://www.acnur.org/portugues/\">Brasil (Português)</option>\\r\\n<option data-mkt=\"bg\" data-mkt-url=\"http://www.unhcr.org/bg/\">Bulgaria (Bulgarian)</option>\\r\\n<option data-mkt=\"en-ca\" data-mkt-url=\"http://www.unhcr.ca\">Canada (English)</option>\\r\\n<option data-mkt=\"en\" data-mkt-url=\"http://www.unhcr.org/ceu/\">Central Europe (English)</option>\\r\\n<option data-mkt=\"es-cr\" data-mkt-url=\"http://www.acnur.org\">Costa Rica (Español)</option>\\r\\n<option data-mkt=\"en\" data-mkt-url=\"http://www.unhcr.org/cy\">Cyprus (English)</option>\\r\\n<option data-mkt=\"cz\" data-mkt-url=\"http://www.unhcr.org/cz/\">Czech Republic (Czech)</option>\\r\\n<option data-mkt=\"en-dk\" data-mkt-url=\"http://www.unhcr.org/neu/dk/\">Denmark (Dansk)</option>\\r\\n<option data-mkt=\"de-de\" data-mkt-url=\"http://www.unhcr.de\">Deutschland (Deutsch)</option>\\r\\n<option data-mkt=\"en\" data-mkt-url=\"http://www.unhcr.org/eg\">Egypt (English)</option>\\r\\n<option data-mkt=\"es-es\" data-mkt-url=\"http://www.acnur.es\">España (Español)</option>\\r\\n<option data-mkt=\"en-ee\" data-mkt-url=\"http://www.unhcr.org/neu/ee/\">Estonia (Eesti)</option>\\r\\n<option data-mkt=\"en-fi\" data-mkt-url=\"http://www.unhcr.org/neu/fi/\">Finland (Suomi)</option>\\r\\n<option data-mkt=\"fr-fr\" data-mkt-url=\"http://www.unhcr.org/fr-fr\">France (Français)</option>\\r\\n<option data-mkt=\"en\" data-mkt-url=\"http://www.unhcr.org/hk/en/\">Hong Kong SAR (English)</option>\\r\\n<option data-mkt=\"hr\" data-mkt-url=\"http://www.unhcr.hr\">Hrvatska (Hrvatski)</option>\\r\\n<option data-mkt=\"hu\" data-mkt-url=\"http://www.unhcr.org/hu/\">Hungary (Hungarian)</option>\\r\\n<option data-mkt=\"en-is\" data-mkt-url=\"http://www.unhcr.org/neu/is/\">Iceland (Íslenska)</option>\\r\\n<option data-mkt=\"en-ri\" data-mkt-url=\"http://www.unhcr.org/id\">Indonesia (Indonesian | English)</option>\\r\\n<option data-mkt=\"en-ie\" data-mkt-url=\"http://www.unhcr.ie\">Ireland (English)</option>\\r\\n<option data-mkt=\"it-it\" data-mkt-url=\"http://www.unhcr.it\">Italia (Italiano)</option>\\r\\n<option data-mkt=\"ja-jp\" data-mkt-url=\"http://www.unhcr.org/jp/\">Japan (日本語 / Japanese）</option>\\r\\n<option data-mkt=\"en-ar\" data-mkt-url=\"http://www.unhcr.org/jo/\">Jordan (English | العربية) </option>\\r\\n<option data-mkt=\"en-ru\" data-mkt-url=\"http://www.unhcr.kz\">Kazakhstan | Казахстан (English | Русский) </option>\\r\\n<option data-mkt=\"en\" data-mkt-url=\"http://www.unhcr.org/ke\">Kenya (English)</option>\\r\\n<option data-mkt=\"en-ru\" data-mkt-url=\"http://www.unhcr.kz/\">Kyrgyzstan | Кыргызстан (English | Русский) </option>\\r\\n<option data-mkt=\"en-lv\" data-mkt-url=\"http://www.unhcr.org/neu/lv/\">Latvia (Latviešu)</option>\\r\\n<option data-mkt=\"en\" data-mkt-url=\"http://www.unhcr.org/lb\">Lebanon (English)</option>\\r\\n<option data-mkt=\"en-lt\" data-mkt-url=\"http://www.unhcr.org/neu/lt/\">Lithuania (Lietuvių)</option>\\r\\n<option data-mkt=\"(fr-nl\" data-mkt-url=\"http://www.unhcr.org/be\">Luxembourg (French | Dutch)</option>\\r\\n<option data-mkt=\"hu\" data-mkt-url=\"http://www.unhcr.org/hu/\">Magyarország (Magyar)</option>\\r\\n<option data-mkt=\"en\" data-mkt-url=\"http://www.unhcr.org/en-my/\">Malaysia (English)</option>\\r\\n<option data-mkt=\"en-mt\" data-mkt-url=\"http://www.unhcr.org/mt\">Malta (English)</option>\\r\\n<option data-mkt=\"nl-nl\" data-mkt-url=\"http://www.unhcr.org/nl/\">Netherland (Nederlands)</option>\\r\\n<option data-mkt=\"en\" data-mkt-url=\"http://www.unhcr.org/neu/\">Northern Europe (English)</option>\\r\\n<option data-mkt=\"en-no\" data-mkt-url=\"http://www.unhcr.org/neu/no/\">Norway (Norsk Bokmål)</option>\\r\\n<option data-mkt=\"en-pk\" data-mkt-url=\"http://www.unhcrpk.org\">Pakistan (English)</option>\\r\\n<option data-mkt=\"en\" data-mkt-url=\"http://www.unhcr.org/ph/\">Philippines (English)</option>\\r\\n<option data-mkt=\"pl\" data-mkt-url=\"http://www.unhcr.org/pl/\">Polska (Polski)</option>\\r\\n<option data-mkt=\"en\" data-mkt-url=\"http://www.unhcr.org/rw\">Rwanda (English)</option>\\r\\n<option data-mkt=\"de-ch\" data-mkt-url=\"http://www.unhcr.org/dach/ch-de/\">Schweiz (Deutsch)</option>\\r\\n<option data-mkt=\"sl\" data-mkt-url=\"http://www.unhcr.org/si/\">Slovenija (Slovenščina)</option>\\r\\n<option data-mkt=\"sk\" data-mkt-url=\"http://www.unhcr.org/sk/\">Slovensko (Slovenské)</option>\\r\\n<option data-mkt=\"en-lk\" data-mkt-url=\"http://unhcr.lk/\">Sri Lanka (English)</option>\\r\\n<option data-mkt=\"fr-ch\" data-mkt-url=\"http://www.unhcr.org/dach/ch-fr/\">Suisse (Français)</option>\\r\\n<option data-mkt=\"en-se\" data-mkt-url=\"http://www.unhcr.org/neu/se/\">Sweden (Svenska)</option>\\r\\n<option data-mkt=\"en\" data-mkt-url=\"http://www.unhcr.org/sy/\">Syrian Arab Republic (English)</option>\\r\\n<option data-mkt=\"en-ru\" data-mkt-url=\"http://www.unhcr.kz/\">Tajikistan | Таджикистан (English | Русский) </option>\\r\\n<option data-mkt=\"en\" data-mkt-url=\"https://www.unhcr.or.th/en\">Thailand (English)</option>\\r\\n<option data-mkt=\"tr\" data-mkt-url=\"http://www.unhcr.org/tr\">Türkiye (Türkçe)</option>\\r\\n<option data-mkt=\"en-ua\" data-mkt-url=\"http://unhcr.org/ua/\">Ukraine (Українська | English)</option>\\r\\n<option data-mkt=\"en\" data-mkt-url=\"http://www.unhcr.org/uk/\">United Kingdom (English)</option>\\r\\n<option data-mkt=\"en\" data-mkt-url=\"http://www.unhcr.org/en-us/\">United States (English)</option>\\r\\n<option data-mkt=\"de-at\" data-mkt-url=\"http://www.unhcr.at\">Österreich (Deutsch)</option>\\r\\n<option data-mkt=\"cz\" data-mkt-url=\"http://www.unhcr.org/cz/\">Česká republika (Čeština)</option>\\r\\n<option data-mkt=\"el-gr\" data-mkt-url=\"http://www.unhcr.gr\">Ελλάδα (ελληνικά)</option>\\r\\n<option data-mkt=\"bg\" data-mkt-url=\"http://www.unhcr.org/bg/\">България (български)</option>\\r\\n<option data-mkt=\"ru-ru\" data-mkt-url=\"http://www.unhcr.ru\">Россия (Русский)</option>\\r\\n<option data-mkt=\"sr-rs\" data-mkt-url=\"http://www.unhcr.rs\">Србија (српски)</option>\\r\\n<option data-mkt=\"ua-ua\" data-mkt-url=\"http://unhcr.org.ua/uk/\">Україна (українською мовою)</option>\\r\\n<option data-mkt=\"th-th\" data-mkt-url=\"http://www.unhcr.or.th\">ไทย (ไทย)</option>\\r\\n<option data-mkt=\"cn_tw\" data-mkt-url=\"http://www.unhcr.org/hk/\">香港特別行政區 (繁體中文)</option>\\r\\n<option data-mkt=\"ko-kr\" data-mkt-url=\"http://www.unhcr.or.kr/unhcr/main/index.jsp\">한국 (한국어)</option>\\r\\n</select>\\r\\n<input type=\"submit\" value=\"Select site\" class=\"btn\" onclick=\"window.location.href=$(\\'#ddl--country option:selected\\').attr(\\'data-mkt-url\\');\" />\\r\\n</div>\\r\\n</fieldset>\\r\\n</div>\\t\\r\\n</div>\\t\\t\\t  \\t\\t\\r\\n</div>\\r\\n<div class=\"hdr--utility\">\\r\\n<div class=\"highlights\">\\r\\n<ul>\\r\\n<li><a href=\"https://donate.unhcr.org/\" title=\"Donate\" id=\"headermenu-donate\">Donate</a></li>\\r\\n</ul>\\r\\n</div>\\r\\n<nav class=\"utility\">\\r\\n<ul>\\r\\n<li><a href=\"http://www.unhcr.org/en-us/media-centre.html\" title=\"Media centre\" id=\"headermenu-1-media-centre\">Media centre</a></li>\\r\\n<li><a href=\"http://www.refworld.org\" title=\"Refworld\" id=\"headermenu-2-refworld\">Refworld</a></li>\\r\\n<li><a href=\"http://www.unhcr.org/en-us/data.html\" title=\"Data\" id=\"headermenu-3-data\">Data</a></li>\\r\\n<li><a href=\"http://www.unhcr.org/en-us/doing-business.html\" title=\"Suppliers\" id=\"headermenu-4-suppliers\">Suppliers</a></li>            \\r\\n<li><a href=\"http://www.unhcr.org/en-us/careers.html\" title=\"Careers\" id=\"headermenu-5-careers\">Careers</a></li>\\r\\n</ul>\\r\\n</nav>\\r\\n</div>\\r\\n<div class=\"unhcr--social\">\\r\\n<p>Share this page:</p>\\r\\n<div class=\"addthis_sharing_toolbox share-icons\">\\r\\n<a href=\"http://www.facebook.com/sharer.php?u=\" title=\"Share on Facebook\" target=\"_blank\"><img src=\"http://www.unhcr.org/assets/img/icons/icon--social-fb.png\" alt=\"Facebook icon\"></a>\\r\\n<a href=\"https://twitter.com/intent/tweet?source=&amp;text=Stories: &amp;via=refugees\" target=\"_blank\" title=\"Tweet\"><img src=\"http://www.unhcr.org/assets/img/icons/icon--social-twt.png\" alt=\"Twitter icon\"></a>\\r\\n</div>\\r\\n</div>\\r\\n</div>\\r\\n\\r\\n<nav class=\"primary--nav\">\\r\\n<ul>\\r\\n\\r\\n<li><a href=\"http://www.unhcr.org/en-us/about-us.html\" title=\"About Us\" id=\"topnav-1-about-us\">About Us</a>\\r\\n<ul class=\"sub--menu\">\\r\\n<li><a href=\"http://www.unhcr.org/en-us/figures-at-a-glance.html\" title=\"Figures at a Glance\" id=\"topnav-1-1-figures-at-a-glance\" >Figures at a Glance</a>\\r\\n<li><a href=\"http://www.unhcr.org/en-us/governance.html\" title=\"Governance and Oversight\" id=\"topnav-1-2-governance\" >Governance and Oversight</a>\\r\\n<li><a href=\"http://www.unhcr.org/en-us/history-of-unhcr.html\" title=\"History of UNHCR\" id=\"topnav-1-3-history-of-unhcr\" >History of UNHCR</a>\\r\\n<li><a href=\"http://www.unhcr.org/en-us/nansen-refugee-award.html\" title=\"Nansen Refugee Award\" id=\"topnav-1-4-nansen-refugee-award\" >Nansen Refugee Award</a>\\r\\n<li><a href=\"http://www.unhcr.org/en-us/prominent-supporters.html\" title=\"Prominent Supporters\" id=\"topnav-1-5-prominent-supporters\" >Prominent Supporters</a>\\r\\n<li><a href=\"http://www.unhcr.org/en-us/evaluation-and-research.html\" title=\"Research and Evaluation\" id=\"topnav-1-6-evaluation-and-research\" >Research and Evaluation</a>\\r\\n<li><a href=\"http://www.unhcr.org/en-us/resources-and-publications.html\" title=\"Resources and Publications\" id=\"topnav-1-7-resources-and-publications\" >Resources and Publications</a>\\r\\n<li><a href=\"http://www.unhcr.org/en-us/1951-refugee-convention.html\" title=\"The 1951 Refugee Convention\" id=\"topnav-1-8-1951-refugee-convention\" >The 1951 Refugee Convention</a>\\r\\n<li><a href=\"http://www.unhcr.org/en-us/the-high-commissioner.html\" title=\"The High Commissioner\" id=\"topnav-1-9-the-high-commissioner\" >The High Commissioner</a>\\r\\n<li><a href=\"http://www.unhcr.org/en-us/where-we-work.html\" title=\"Where We Work\" id=\"topnav-1-10-where-we-work\" >Where We Work</a>\\r\\n<li><a href=\"http://www.unhcr.org/en-us/who-we-help.html\" title=\"Who We Help\" id=\"topnav-1-11-who-we-help\" >Who We Help</a>\\r\\n</ul>\\r\\n</li>\\r\\n<li><a href=\"http://www.unhcr.org/en-us/emergencies.html\" title=\"Emergencies\" id=\"topnav-2-emergencies\">Emergencies</a>\\r\\n<ul class=\"sub--menu\">\\r\\n<li><a href=\"http://www.unhcr.org/en-us/burundi-situation.html\" title=\"Burundi situation\" id=\"topnav-2-1-burundi-situation\" >Burundi situation</a>\\r\\n<li><a href=\"http://www.unhcr.org/en-us/central-african-republic-situation.html\" title=\"Central African Republic situation\" id=\"topnav-2-2-central-african-republic-situation\" >Central African Republic situation</a>\\r\\n<li><a href=\"http://www.unhcr.org/en-us/dr-congo-emergency.html\" title=\"DR Congo emergency\" id=\"topnav-2-3-dr-congo-emergency\" >DR Congo emergency</a>\\r\\n<li><a href=\"http://www.unhcr.org/en-us/europe-emergency.html\" title=\"Europe situation\" id=\"topnav-2-4-europe-emergency\" >Europe situation</a>\\r\\n<li><a href=\"http://www.unhcr.org/en-us/iraq-emergency.html\" title=\"Iraq emergency\" id=\"topnav-2-5-iraq-emergency\" >Iraq emergency</a>\\r\\n<li><a href=\"http://www.unhcr.org/en-us/nigeria-emergency.html\" title=\"Nigeria emergency\" id=\"topnav-2-6-nigeria-emergency\" >Nigeria emergency</a>\\r\\n<li><a href=\"http://www.unhcr.org/en-us/rohingya-emergency.html\" title=\"Rohingya emergency\" id=\"topnav-2-7-rohingya-emergency\" >Rohingya emergency</a>\\r\\n<li><a href=\"http://www.unhcr.org/en-us/south-sudan-emergency.html\" title=\"South Sudan emergency\" id=\"topnav-2-8-south-sudan-emergency\" >South Sudan emergency</a>\\r\\n<li><a href=\"http://www.unhcr.org/en-us/syria-emergency.html\" title=\"Syria emergency\" id=\"topnav-2-9-syria-emergency\" >Syria emergency</a>\\r\\n<li><a href=\"http://www.unhcr.org/en-us/yemen-emergency.html\" title=\"Yemen emergency\" id=\"topnav-2-10-yemen-emergency\" >Yemen emergency</a>\\r\\n</ul>\\r\\n</li>\\r\\n<li><a href=\"http://www.unhcr.org/en-us/what-we-do.html\" title=\"What We Do\" id=\"topnav-3-what-we-do\">What We Do</a>\\r\\n<ul class=\"sub--menu\">\\r\\n<li><a href=\"http://www.unhcr.org/en-us/advocacy.html\" title=\"Advocacy\" id=\"topnav-3-1-advocacy\" >Advocacy</a>\\r\\n<li><a href=\"http://www.unhcr.org/en-us/asylum-and-migration.html\" title=\"Asylum and Migration\" id=\"topnav-3-2-asylum-and-migration\" >Asylum and Migration</a>\\r\\n<li><a href=\"http://www.unhcr.org/en-us/cash-based-interventions.html\" title=\"Cash-Based Interventions\" id=\"topnav-3-3-cash-based-interventions\" >Cash-Based Interventions</a>\\r\\n<li><a href=\"http://www.unhcr.org/en-us/coordinating-assistance.html\" title=\"Coordinating Assistance\" id=\"topnav-3-4-coordinating-assistance\" >Coordinating Assistance</a>\\r\\n<li><a href=\"http://www.unhcr.org/en-us/education.html\" title=\"Education\" id=\"topnav-3-5-education\" >Education</a>\\r\\n<li><a href=\"http://www.unhcr.org/en-us/stateless-people.html\" title=\"Ending Statelessness\" id=\"topnav-3-6-stateless-people\" >Ending Statelessness</a>\\r\\n<li><a href=\"http://www.unhcr.org/en-us/environment-disasters-and-climate-change.html\" title=\"Environment, Disasters and Climate Change\" id=\"topnav-3-7-environment-disasters-and-climate-change\" >Environment, Disasters and Climate Change</a>\\r\\n<li><a href=\"http://www.unhcr.org/en-us/innovation.html\" title=\"Innovation\" id=\"topnav-3-8-innovation\" >Innovation</a>\\r\\n<li><a href=\"http://www.unhcr.org/en-us/livelihoods.html\" title=\"Livelihoods and Economic Inclusion\" id=\"topnav-3-9-livelihoods\" >Livelihoods and Economic Inclusion</a>\\r\\n<li><a href=\"http://www.unhcr.org/en-us/our-fight-against-sexual-exploitation-abuse-and-harassment.html\" title=\"Our fight against sexual exploitation, abuse and harassment \" id=\"topnav-3-10-our-fight-against-sexual-exploitation-abuse-and-harassment\" >Our fight against sexual exploitation, abuse and harassment </a>\\r\\n<li><a href=\"http://www.unhcr.org/en-us/protection.html\" title=\"Protection\" id=\"topnav-3-11-protection\" >Protection</a>\\r\\n<li><a href=\"http://www.unhcr.org/en-us/public-health.html\" title=\"Public Health\" id=\"topnav-3-12-public-health\" >Public Health</a>\\r\\n<li><a href=\"http://www.unhcr.org/en-us/safeguarding-individuals.html\" title=\"Safeguarding Individuals\" id=\"topnav-3-13-safeguarding-individuals\" >Safeguarding Individuals</a>\\r\\n<li><a href=\"http://www.unhcr.org/en-us/shelter.html\" title=\"Shelter\" id=\"topnav-3-14-shelter\" >Shelter</a>\\r\\n<li><a href=\"http://www.unhcr.org/en-us/solutions.html\" title=\"Solutions\" id=\"topnav-3-15-solutions\" >Solutions</a>\\r\\n<li><a href=\"http://www.unhcr.org/en-us/towards-a-global-compact-on-refugees.html\" title=\"Towards a global compact on refugees\" id=\"topnav-3-16-towards-a-global-compact-on-refugees\" >Towards a global compact on refugees</a>\\r\\n</ul>\\r\\n</li>\\r\\n<li><a href=\"http://www.unhcr.org/en-us/news-and-stories.html\" title=\"News and Stories\" id=\"topnav-4-news-and-stories\">News and Stories</a>\\r\\n<ul class=\"sub--menu\">\\r\\n<li><a href=\"http://www.unhcr.org/en-us/a-new-deal-for-refugees.html\" title=\"A New Deal for Refugees \" id=\"topnav-4-1-a-new-deal-for-refugees\" >A New Deal for Refugees </a>\\r\\n<li><a href=\"http://www.unhcr.org/en-us/media-centre.html\" title=\"Media Centre\" id=\"topnav-4-2-media-centre\" >Media Centre</a>\\r\\n<li><a href=\"http://www.unhcr.org/en-us/news.html\" title=\"News\" id=\"topnav-4-3-news\" >News</a>\\r\\n<li><a href=\"http://www.unhcr.org/refugeebrief/\" title=\"Newsletter: The Refugee Brief\" id=\"topnav-4-4-the-refugee-brief\" target=&quot;_blank&quot;>Newsletter: The Refugee Brief</a>\\r\\n<li><a href=\"http://www.unhcr.org/awakeatnight/\" title=\"Podcast: Awake at Night\" id=\"topnav-4-5-podcast-awake-at-night\" target=&quot;_blank&quot;>Podcast: Awake at Night</a>\\r\\n<li><a href=\"http://www.unhcr.org/en-us/special-features.html\" title=\"Special Features\" id=\"topnav-4-6-special-features\" >Special Features</a>\\r\\n<li><a href=\"http://www.unhcr.org/en-us/stories.html\" title=\"Stories\" id=\"topnav-4-7-stories\" >Stories</a>\\r\\n<li><a href=\"http://www.unhcr.org/en-us/this-land-is-your-land.html\" title=\"This Land is Your Land\" id=\"topnav-4-8-this-land-is-your-land\" >This Land is Your Land</a>\\r\\n<li><a href=\"http://www.unhcr.org/en-us/videos.html\" title=\"Videos\" id=\"topnav-4-9-videos\" >Videos</a>\\r\\n</ul>\\r\\n</li>\\r\\n<li><a href=\"http://www.unhcr.org/en-us/governments-and-partners.html\" title=\"Governments and Partners\" id=\"topnav-5-governments-and-partners\">Governments and Partners</a>\\r\\n<ul class=\"sub--menu\">\\r\\n<li><a href=\"http://www.unhcr.org/en-us/conferences-and-meetings.html\" title=\"Conferences and Meetings\" id=\"topnav-5-1-conferences-and-meetings\" >Conferences and Meetings</a>\\r\\n<li><a href=\"http://www.unhcr.org/en-us/donors.html\" title=\"Donors\" id=\"topnav-5-2-donors\" >Donors</a>\\r\\n<li><a href=\"http://www.unhcr.org/en-us/non-governmental-organizations.html\" title=\"Non-Governmental Organizations\" id=\"topnav-5-3-non-governmental-organizations\" >Non-Governmental Organizations</a>\\r\\n<li><a href=\"http://www.unhcr.org/en-us/partnerships.html\" title=\"Partnerships\" id=\"topnav-5-4-partnerships\" >Partnerships</a>\\r\\n<li><a href=\"http://www.unhcr.org/en-us/private-sector-supporters.html\" title=\"Private Sector Supporters\" id=\"topnav-5-5-private-sector-supporters\" >Private Sector Supporters</a>\\r\\n<li><a href=\"http://www.unhcr.org/en-us/un-sister-organizations.html\" title=\"UN Sister Organizations\" id=\"topnav-5-6-un-sister-organizations\" >UN Sister Organizations</a>\\r\\n</ul>\\r\\n</li>\\r\\n<li><a href=\"http://www.unhcr.org/en-us/get-involved.html\" title=\"Get Involved\" id=\"topnav-6-get-involved\">Get Involved</a>\\r\\n<ul class=\"sub--menu\">\\r\\n<li><a href=\"http://www.unhcr.org/en-us/world-refugee-day.html\" title=\"#WithRefugees Petition\" id=\"topnav-6-1-world-refugee-day\" >#WithRefugees Petition</a>\\r\\n<li><a href=\"http://www.unhcr.org/en-us/nobody-left-outside.html\" title=\"Nobody Left Outside\" id=\"topnav-6-2-nobody-left-outside\" >Nobody Left Outside</a>\\r\\n<li><a href=\"http://www.unhcr.org/en-us/stay-informed.html\" title=\"Stay Informed\" id=\"topnav-6-3-stay-informed\" >Stay Informed</a>\\r\\n</ul>\\r\\n</li>\\r\\n</ul>\\r\\n</nav>\\r\\n</header><div class=\"un--search\">\\r\\n<div class=\"search__wrapper\">\\r\\n<form action=\"http://www.unhcr.org/en-us/search?query=\" method=\"get\" id=\"frm-main-search\">\\r\\n<fieldset class=\"gbl--search\">\\r\\n<legend>Global UNHCR search</legend>\\r\\n<div class=\"form--row\">\\r\\n<label for=\"un--gbl-search\" class=\"hidden\">Search UNHCR</label>\\r\\n<input type=\"text\" value=\"\" class=\"gbl--search-text\" id=\"un--gbl-search\" />\\r\\n<input type=\"submit\" class=\"icon--search\" value=\"search\" />\\r\\n</div>\\r\\n</fieldset>\\r\\n<a href=\"#_\" title=\"Close search\" class=\"icon--close\">Close search</a>\\r\\n</form>\\r\\n</div>\\t\\r\\n</div>\\r\\n<div class=\"body--wrapper\">\\r\\n<div class=\"overlay\">&nbsp;</div>\\r\\n<div class=\"video-player\">\\r\\n<div class=\"close-btn\"></div>\\r\\n<div class=\"player-container\">\\r\\n<div class=\"player-inner-wrap\">\\r\\n</div>\\r\\n</div>\\r\\n</div>\\r\\n<div class=\"main-content \">\\r\\n\\r\\n\\r\\n\\r\\n\\r\\n<div class=\"thirdlevel fullwidth \" id=\"threeleveltest\">\\r\\n<div class=\"intro__container\">    \\r\\n<section>\\r\\n<div class=\"section__wrapper landing--head\">\\r\\n<div class=\"breadcrumb\">  \\r\\n<ul>\\r\\n<li><a href=\"http://www.unhcr.org/en-us\">Home</a></li><li><a href=\"http://www.unhcr.org/en-us/news-and-stories.html\" title=\"News and Stories\">News and Stories</a></li><li>Stories</li></ul> \\r\\n</div>             \\r\\n<div class=\"intro\">\\r\\n<h1>Stories</h1>\\r\\n</div>\\r\\n\\r\\n</div>\\r\\n</section>\\r\\n</div>\\r\\n</div> \\r\\n<section class=\"content flush\">\\r\\n<div class=\"section__wrapper\">\\r\\n<div class=\"section__wrapper landing--head content--text\">                 \\r\\n\\n</div>\\r\\n</div>\\r\\n</section>\\r\\n\\r\\n<section class=\"grey\">\\r\\n<div class=\"section__wrapper\">\\r\\n<form action=\"search\" id=\"FilterForm\" name=\"frmFilterSearch\">\\r\\n<fieldset class=\"fs--inline\">\\r\\n<div><input type=\"hidden\" name=\"page\" value=\"search\"></div>\\r\\n<div><input type=\"hidden\" name=\"cid\" value=\"49aea93a7d\"></div><div><input type=\"hidden\" name=\"scid\" value=\"567aa8034\"></div><div><input type=\"hidden\" name=\"docid\" value=\"49c3646c24e\"></div><div><input type=\"hidden\" name=\"comid\" value=\"56ec23bb4\"></div><div><input type=\"hidden\" name=\"skip\" value=0></div>\\r\\n<div class=\"form--row\"><label for=\"querysi\">Filter:</label><input type=\"text\" name=\"querysi\" id=\"querysi\" class=\"txt\" value=\"\" style=\"width:380px;\">\\r\\n<select name=\"searchin\" class=\"txt\">\\r\\n<option value=\"title\">in title</option>                  \\r\\n<option value=\"year\">in Year</option>          \\r\\n<option value=\"fulltext\">in Full text</option>\\r\\n</select>\\r\\n<select name=\"sort\" class=\"txt\">\\r\\n<option value=\"date\">Sort by date</option>            \\r\\n<option selected value=\"relevance\">Sort by relevance</option> \\r\\n<option value=\"title\">Sort by title</option>             \\r\\n</select><input type=\"submit\" value=\"Apply filter\" class=\"btn\"></div>        \\r\\n\\r\\n</fieldset>\\r\\n</form>                    \\r\\n</div>\\r\\n</section>\\r\\n\\r\\n\\r\\n\\r\\n\\r\\n\\r\\n\\r\\n\\r\\n\\r\\n\\r\\n\\r\\n\\r\\n\\r\\n<section class=\"cta flush news__grid\">\\r\\n<div class=\"section__wrapper\">             \\r\\n<div class=\"cta__wrapper\">\\r\\n<a href=\"http://www.unhcr.org/en-us/news/stories/2018/10/5bc74b614/german-opera-company-puts-refugees-spotlight.html\" title=\"German opera company puts refugees in the spotlight\" class=\"cta__box cta__box--s \"><div class=\"cta__box__wrapper\">\\r\\n<div class=\"cta__img \">\\r\\n<img src=\"/thumb4/5bbcde3a1.jpg\" alt=\"\">\\r\\n</div>\\r\\n<div class=\"cta__info\">\\r\\n<h2>German opera company puts refugees in the spotlight</h2>\\r\\n\\r\\n<p>\\r\\nHow a Syrian drama student found himself performing on stage in Verdi\\'s \\'Don Carlos\\'.</p>\\r\\n<div class=\"tag__wrapper\">\\r\\n<span >19 Oct 2018 </span>\\r\\n</div>                    \\r\\n</div>          \\r\\n</div>\\r\\n</a><a href=\"http://www.unhcr.org/en-us/news/stories/2018/10/5bc70b784/syrian-lifeguard-helps-save-others-peril-greek-coast.html\" title=\"Syrian lifeguard helps save others in peril on the Greek coast\" class=\"cta__box cta__box--s \"><div class=\"cta__box__wrapper\">\\r\\n<div class=\"cta__img \">\\r\\n<img src=\"/thumb4/5bc09b433.jpg\" alt=\"\">\\r\\n</div>\\r\\n<div class=\"cta__info\">\\r\\n<h2>Syrian lifeguard helps save others in peril on the Greek coast</h2>\\r\\n\\r\\n<p>\\r\\nObada \"Ibo\" Al-Nassar, saved from the sea himself two years ago, joined in the rescue operation when the Greek coastal resort of Mati was engulfed by deadly wildfires. </p>\\r\\n<div class=\"tag__wrapper\">\\r\\n<span >17 Oct 2018 </span>\\r\\n</div>                    \\r\\n</div>          \\r\\n</div>\\r\\n</a><a href=\"http://www.unhcr.org/en-us/news/stories/2018/10/5bc0a6864/centre-proves-haven-special-needs-children-uprooted-conflict.html\" title=\"Centre proves a haven for special needs children uprooted by conflict\" class=\"cta__box cta__box--s \"><div class=\"cta__box__wrapper\">\\r\\n<div class=\"cta__img \">\\r\\n<img src=\"/thumb4/5bc093691.jpg\" alt=\"\">\\r\\n</div>\\r\\n<div class=\"cta__info\">\\r\\n<h2>Centre proves a haven for special needs children uprooted by conflict</h2>\\r\\n\\r\\n<p>\\r\\nForced to flee eastern Ukraine, one woman decided to open her own treatment centre for internally displaced special needs children.</p>\\r\\n<div class=\"tag__wrapper\">\\r\\n<span >16 Oct 2018 </span>\\r\\n</div>                    \\r\\n</div>          \\r\\n</div>\\r\\n</a><a href=\"http://www.unhcr.org/en-us/news/stories/2018/10/5bbcbae04/syrian-family-dodge-conflict-struggle-outrun-deadly-disease.html\" title=\"Syrian family dodge conflict, but struggle to outrun a deadly disease\" class=\"cta__box cta__box--s \"><div class=\"cta__box__wrapper\">\\r\\n<div class=\"cta__img \">\\r\\n<img src=\"/thumb4/5bbcbbe23.jpg\" alt=\"\">\\r\\n</div>\\r\\n<div class=\"cta__info\">\\r\\n<h2>Syrian family dodge conflict, but struggle to outrun a deadly disease</h2>\\r\\n\\r\\n<p>\\r\\nRonia\\'s family escaped the war in Syria, but not the chronic illness that took her husband\\'s life. She fears one of their daughters could be next.</p>\\r\\n<div class=\"tag__wrapper\">\\r\\n<span >15 Oct 2018 </span>\\r\\n</div>                    \\r\\n</div>          \\r\\n</div>\\r\\n</a><a href=\"http://www.unhcr.org/en-us/news/stories/2018/10/5bc05fc14/imaginative-use-former-prison-opens-new-doors-refugees.html\" title=\"Imaginative use of former prison opens new doors for refugees   \" class=\"cta__box cta__box--s \"><div class=\"cta__box__wrapper\">\\r\\n<div class=\"cta__img \">\\r\\n<img src=\"/thumb4/5bb3674a3.jpg\" alt=\"\">\\r\\n</div>\\r\\n<div class=\"cta__info\">\\r\\n<h2>Imaginative use of former prison opens new doors for refugees   </h2>\\r\\n\\r\\n<p>\\r\\nA pop-up hotel and restaurant run by refugees have given new life to a forbidding Amsterdam building that once housed hardened criminals.</p>\\r\\n<div class=\"tag__wrapper\">\\r\\n<span >12 Oct 2018 </span>\\r\\n</div>                    \\r\\n</div>          \\r\\n</div>\\r\\n</a><a href=\"http://www.unhcr.org/en-us/news/stories/2018/10/5bbb5f714/cameroonian-refugees-flee-clashes-find-safety-nigeria.html\" title=\"Cameroonian refugees flee clashes and find safety in Nigeria\" class=\"cta__box cta__box--s \"><div class=\"cta__box__wrapper\">\\r\\n<div class=\"cta__img \">\\r\\n<img src=\"/thumb4/5ba39b6e4.jpg\" alt=\"\">\\r\\n</div>\\r\\n<div class=\"cta__info\">\\r\\n<h2>Cameroonian refugees flee clashes and find safety in Nigeria</h2>\\r\\n\\r\\n<p>\\r\\nViolent clashes between military and armed separtists drive 26,000 Cameroonians over the border, where funding is still needed to provide assistance.</p>\\r\\n<div class=\"tag__wrapper\">\\r\\n<span >11 Oct 2018 </span>\\r\\n</div>                    \\r\\n</div>          \\r\\n</div>\\r\\n</a><a href=\"http://www.unhcr.org/en-us/news/stories/2018/10/5bbdd1304/lebanon-iraqi-boy-autism-finds-escape-isolation.html\" title=\"In Lebanon, Iraqi boy with autism finds escape from isolation\" class=\"cta__box cta__box--s \"><div class=\"cta__box__wrapper\">\\r\\n<div class=\"cta__img \">\\r\\n<img src=\"/thumb4/5bbda9363.jpg\" alt=\"\">\\r\\n</div>\\r\\n<div class=\"cta__info\">\\r\\n<h2>In Lebanon, Iraqi boy with autism finds escape from isolation</h2>\\r\\n\\r\\n<p>\\r\\nSamer, 10, spent most of his life cut off from the outside world, until a UNHCR-funded community centre in Lebanon gave him a chance to connect with other kids.</p>\\r\\n<div class=\"tag__wrapper\">\\r\\n<span >10 Oct 2018 </span>\\r\\n</div>                    \\r\\n</div>          \\r\\n</div>\\r\\n</a><a href=\"http://www.unhcr.org/en-us/news/stories/2018/10/5ba265274/campaign-aims-cut-rise-suicides-sparked-south-sudan-war.html\" title=\"Campaign aims to cut rise in suicides sparked by South Sudan war\" class=\"cta__box cta__box--s \"><div class=\"cta__box__wrapper\">\\r\\n<div class=\"cta__img \">\\r\\n<img src=\"/thumb4/5b48a5463.jpg\" alt=\"\">\\r\\n</div>\\r\\n<div class=\"cta__info\">\\r\\n<h2>Campaign aims to cut rise in suicides sparked by South Sudan war</h2>\\r\\n\\r\\n<p>\\r\\nExperts believe the negative effect of South Sudan\\'s conflict on civilians\\' mental health has been staggering.</p>\\r\\n<div class=\"tag__wrapper\">\\r\\n<span >10 Oct 2018 </span>\\r\\n</div>                    \\r\\n</div>          \\r\\n</div>\\r\\n</a><a href=\"http://www.unhcr.org/en-us/news/stories/2018/10/5bb71ad34/vulnerable-venezuelans-find-help-colombia.html\" title=\"Vulnerable Venezuelans find help in Colombia\" class=\"cta__box cta__box--s \"><div class=\"cta__box__wrapper\">\\r\\n<div class=\"cta__img \">\\r\\n<img src=\"/thumb4/5bb71c9d3.jpg\" alt=\"\">\\r\\n</div>\\r\\n<div class=\"cta__info\">\\r\\n<h2>Vulnerable Venezuelans find help in Colombia</h2>\\r\\n\\r\\n<p>\\r\\nHundreds of thousands of children, women and men seek safety and security over the border.</p>\\r\\n<div class=\"tag__wrapper\">\\r\\n<span >5 Oct 2018 </span>\\r\\n</div>                    \\r\\n</div>          \\r\\n</div>\\r\\n</a></div> \\r\\n\\r\\n\\r\\n<ul class=\"pagination\">\\r\\n\\r\\n\\r\\n\\r\\n<li class=\"active\"><a href=\"\">1</a></li>\\r\\n<li><a href=\"?page=search&amp;skip=9&amp;docid=49c3646c24e&amp;cid=49aea93a7d&amp;scid=567aa8034&amp;comid=56ec23bb4\">2</a></li>\\r\\n<li><a href=\"?page=search&amp;skip=18&amp;docid=49c3646c24e&amp;cid=49aea93a7d&amp;scid=567aa8034&amp;comid=56ec23bb4\">3</a></li>\\r\\n<li><a href=\"?page=search&amp;skip=27&amp;docid=49c3646c24e&amp;cid=49aea93a7d&amp;scid=567aa8034&amp;comid=56ec23bb4\">4</a></li>\\r\\n<li><a href=\"?page=search&amp;skip=36&amp;docid=49c3646c24e&amp;cid=49aea93a7d&amp;scid=567aa8034&amp;comid=56ec23bb4\">5</a></li>\\r\\n<li><a href=\"?page=search&amp;skip=45&amp;docid=49c3646c24e&amp;cid=49aea93a7d&amp;scid=567aa8034&amp;comid=56ec23bb4\">6</a></li>\\r\\n<li><a href=\"?page=search&amp;skip=54&amp;docid=49c3646c24e&amp;cid=49aea93a7d&amp;scid=567aa8034&amp;comid=56ec23bb4\">7</a></li>\\r\\n<li><a href=\"?page=search&amp;skip=63&amp;docid=49c3646c24e&amp;cid=49aea93a7d&amp;scid=567aa8034&amp;comid=56ec23bb4\">8</a></li>\\r\\n<li><a href=\"?page=search&amp;skip=72&amp;docid=49c3646c24e&amp;cid=49aea93a7d&amp;scid=567aa8034&amp;comid=56ec23bb4\">9</a></li>\\r\\n\\r\\n<li><a href=\"?page=search&amp;skip=117&amp;docid=49c3646c24e&amp;cid=49aea93a7d&amp;scid=567aa8034&amp;comid=56ec23bb4\">&raquo;</a></li>\\r\\n\\r\\n<li><a href=\"?page=search&amp;skip=9&amp;docid=49c3646c24e&amp;cid=49aea93a7d&amp;scid=567aa8034&amp;comid=56ec23bb4\">Next</a></li>\\r\\n\\r\\n</ul>\\r\\n</div>\\r\\n</section>              \\r\\n</div>\\r\\n<footer class=\"footer\">\\r\\n<div class=\"footer__wrapper\">\\r\\n<div class=\"footer--nav\">\\r\\n<ul>\\r\\n<li><a href=\"http://www.unhcr.org/en-us/about-us.html\" title=\"About Us\" id=\"footernav-1\">About Us</a></li>\\r\\n<li><a href=\"http://www.unhcr.org/en-us/emergencies.html\" title=\"Emergencies\" id=\"footernav-2\">Emergencies</a></li>\\r\\n<li><a href=\"http://www.unhcr.org/en-us/what-we-do.html\" title=\"What We Do\" id=\"footernav-3\">What We Do</a></li>\\r\\n<li><a href=\"http://www.unhcr.org/en-us/news-and-stories.html\" title=\"News and Stories\" id=\"footernav-4\">News and Stories</a></li>\\r\\n<li><a href=\"http://www.unhcr.org/en-us/governments-and-partners.html\" title=\"Governments and Partners\" id=\"footernav-5\">Governments and Partners</a></li>\\r\\n<li><a href=\"http://www.unhcr.org/en-us/get-involved.html\" title=\"Get Involved\" id=\"footernav-6\">Get Involved</a></li>\\r\\n</ul>    \\r\\n</div>\\r\\n<div class=\"footer--left\">\\r\\n<div class=\"content\">\\r\\n<div class=\"footer--links\">\\r\\n<div class=\"copyright\">\\r\\n<p><a href=\"http://www.unhcr.org/en-us/copyright.html\">&copy; UNHCR 2001-2018</a></p>\\r\\n</div>\\t\\t\\t\\r\\n<nav class=\"footer--utility\">\\r\\n<ul>\\r\\n<li><a href=\"http://www.unhcr.org/en-us/media-centre.html\" title=\"Media centre\" id=\"footer-1-media-centre\">Media centre</a></li>\\r\\n<li><a href=\"http://www.unhcr.org/en-us/careers.html\" title=\"Careers\" id=\"footer-2-careers\">Careers</a></li>\\r\\n<li><a href=\"http://data.unhcr.org/\" title=\"Emergencies portal\" id=\"footer-3-emergencies-portal\">Emergencies portal</a></li>\\r\\n<li><a href=\"http://www.refworld.org\" title=\"Refworld\" id=\"footer-4-refworld\">Refworld</a></li>\\r\\n<li><a href=\"http://www.unhcr.org/en-us/contact-us.html\" title=\"Contact us\" id=\"footer-5-contact-us\">Contact us</a></li>\\r\\n<li><a href=\"http://www.unhcr.org/en-us/privacy-policy.html\" title=\"Privacy policy\" id=\"footer-6-privacy-policy\">Privacy policy</a></li>\\r\\n<li><a href=\"http://www.unhcr.org/en-us/data.html\" title=\"Data\" id=\"footer-7-data\">Data</a></li>\\r\\n<li><a href=\"http://www.unhcr.org/en-us/making-complaint.html\" title=\"Report fraud or abuse\" id=\"footer-8-making-complaint\">Report fraud or abuse</a></li>\\r\\n<li><a href=\"http://www.unhcr.org/en-us/terms-and-conditions.html\" title=\"Terms &amp; conditions of use\" id=\"footer-9-terms-and-conditions\">Terms &amp; conditions of use</a></li>\\r\\n<li><a href=\"http://www.unhcr.org/en-us/doing-business.html\" title=\"Business\" id=\"footer-10-doing-business\">Business</a></li>              \\r\\n</ul>\\r\\n</nav>\\r\\n</div>\\r\\n</div>\\r\\n</div>\\r\\n<div class=\"footer--right\">\\r\\n<div class=\"content\">\\r\\n<div class=\"footer--subscribe\">\\r\\n<p><strong>STAY CONNECTED\\n</strong></p>\\r\\n<p><a href=\"http://www.unhcr.org/en-us/stay-informed.html\" class=\"btn\" id=\"footer-stay-informed\">Subscribe to our newsletter</a></p>\\r\\n</div>\\r\\n<div class=\"footer--social\">  \\r\\n<ul>\\r\\n<li>Follow: </li>\\r\\n<li><a href=\"https://twitter.com/refugees\" title=\"Follow UNHCR on Twitter\" class=\"ftr--twt\"></a></li>\\r\\n<li><a href=\"https://www.facebook.com/UNHCR\" title=\"Follow UNHCR on FaceBook\" class=\"ftr--fb\"></a></li>\\r\\n<li><a href=\"https://www.youtube.com/c/unhcr\" title=\"View our YouTube channel\" class=\"ftr--yt\"></a></li>\\r\\n<li><a href=\"https://www.instagram.com/refugees/\" title=\"View our Instagram page\" class=\"ftr--ig\"></a></li>\\r\\n</ul>\\r\\n</div>\\r\\n</div>\\r\\n</div>\\r\\n</div>\\r\\n</footer>\\r\\n</div>\\r\\n<script src=\"http://www.unhcr.org/assets/js/lib/jquery-ui.min.js\"></script>        \\r\\n<script src=\"http://www.unhcr.org/assets/js/lib/jquery.counterup.min.js\"></script>  \\r\\n<script src=\"http://www.unhcr.org/assets/js/lib/jquery.easing.min.1.0.js\"></script>       \\r\\n<script src=\"http://maps.googleapis.com/maps/api/js\"></script>\\r\\n<script src=\"http://www.unhcr.org/assets/js/lib/waypoints.min.js\"></script>\\r\\n<script src=\"http://www.unhcr.org/assets/js/lib/jquery.cookie.min.js\"></script>\\r\\n<script src=\"http://www.unhcr.org/assets/js/lib/jquery.bxslider.min.js\"></script>\\r\\n<script src=\"http://www.unhcr.org/assets/js/lib/jquery.tweetHighlighted.min.js\"></script>\\r\\n<script src=\"http://www.unhcr.org/assets/js/lib/jquery.easytabs.min.js\"></script>\\r\\n<script src=\"http://www.unhcr.org/assets/js/lib/jquery.matchHeight.min.js\"></script>\\r\\n<script src=\"http://www.unhcr.org/assets/js/lib/jquery.fitvids-ie.min.js\"></script>\\r\\n<script src=\"http://www.unhcr.org/assets/js/lib/jquery.fittext.min.1.0.js\"></script>\\r\\n<script src=\"http://www.unhcr.org/assets/js/lib/rrssb.min.js\"></script>\\r\\n<script src=\"http://www.unhcr.org/assets/js/app.min.v3.js\"></script>\\r\\n</body>\\r\\n</html>\\r\\n'"
      ]
     },
     "execution_count": 35,
     "metadata": {},
     "output_type": "execute_result"
    }
   ],
   "source": [
    "resp_main= requests.get(\"http://www.unhcr.org/en-us/stories.html?page=search&skip=0\")"
   ]
  },
  {
   "cell_type": "code",
   "execution_count": 36,
   "metadata": {
    "collapsed": true
   },
   "outputs": [],
   "source": [
    "html_str = resp_main.text"
   ]
  },
  {
   "cell_type": "code",
   "execution_count": 37,
   "metadata": {
    "collapsed": true
   },
   "outputs": [],
   "source": [
    "doc = BeautifulSoup(html_str, \"html.parser\")"
   ]
  },
  {
   "cell_type": "code",
   "execution_count": 38,
   "metadata": {},
   "outputs": [
    {
     "data": {
      "text/plain": [
       "<div class=\"cta__wrapper\">\n",
       "<a class=\"cta__box cta__box--s \" href=\"http://www.unhcr.org/en-us/news/stories/2018/10/5bc74b614/german-opera-company-puts-refugees-spotlight.html\" title=\"German opera company puts refugees in the spotlight\"><div class=\"cta__box__wrapper\">\n",
       "<div class=\"cta__img \">\n",
       "<img alt=\"\" src=\"/thumb4/5bbcde3a1.jpg\"/>\n",
       "</div>\n",
       "<div class=\"cta__info\">\n",
       "<h2>German opera company puts refugees in the spotlight</h2>\n",
       "<p>\n",
       "How a Syrian drama student found himself performing on stage in Verdi's 'Don Carlos'.</p>\n",
       "<div class=\"tag__wrapper\">\n",
       "<span>19 Oct 2018 </span>\n",
       "</div>\n",
       "</div>\n",
       "</div>\n",
       "</a><a class=\"cta__box cta__box--s \" href=\"http://www.unhcr.org/en-us/news/stories/2018/10/5bc70b784/syrian-lifeguard-helps-save-others-peril-greek-coast.html\" title=\"Syrian lifeguard helps save others in peril on the Greek coast\"><div class=\"cta__box__wrapper\">\n",
       "<div class=\"cta__img \">\n",
       "<img alt=\"\" src=\"/thumb4/5bc09b433.jpg\"/>\n",
       "</div>\n",
       "<div class=\"cta__info\">\n",
       "<h2>Syrian lifeguard helps save others in peril on the Greek coast</h2>\n",
       "<p>\n",
       "Obada \"Ibo\" Al-Nassar, saved from the sea himself two years ago, joined in the rescue operation when the Greek coastal resort of Mati was engulfed by deadly wildfires. </p>\n",
       "<div class=\"tag__wrapper\">\n",
       "<span>17 Oct 2018 </span>\n",
       "</div>\n",
       "</div>\n",
       "</div>\n",
       "</a><a class=\"cta__box cta__box--s \" href=\"http://www.unhcr.org/en-us/news/stories/2018/10/5bc0a6864/centre-proves-haven-special-needs-children-uprooted-conflict.html\" title=\"Centre proves a haven for special needs children uprooted by conflict\"><div class=\"cta__box__wrapper\">\n",
       "<div class=\"cta__img \">\n",
       "<img alt=\"\" src=\"/thumb4/5bc093691.jpg\"/>\n",
       "</div>\n",
       "<div class=\"cta__info\">\n",
       "<h2>Centre proves a haven for special needs children uprooted by conflict</h2>\n",
       "<p>\n",
       "Forced to flee eastern Ukraine, one woman decided to open her own treatment centre for internally displaced special needs children.</p>\n",
       "<div class=\"tag__wrapper\">\n",
       "<span>16 Oct 2018 </span>\n",
       "</div>\n",
       "</div>\n",
       "</div>\n",
       "</a><a class=\"cta__box cta__box--s \" href=\"http://www.unhcr.org/en-us/news/stories/2018/10/5bbcbae04/syrian-family-dodge-conflict-struggle-outrun-deadly-disease.html\" title=\"Syrian family dodge conflict, but struggle to outrun a deadly disease\"><div class=\"cta__box__wrapper\">\n",
       "<div class=\"cta__img \">\n",
       "<img alt=\"\" src=\"/thumb4/5bbcbbe23.jpg\"/>\n",
       "</div>\n",
       "<div class=\"cta__info\">\n",
       "<h2>Syrian family dodge conflict, but struggle to outrun a deadly disease</h2>\n",
       "<p>\n",
       "Ronia's family escaped the war in Syria, but not the chronic illness that took her husband's life. She fears one of their daughters could be next.</p>\n",
       "<div class=\"tag__wrapper\">\n",
       "<span>15 Oct 2018 </span>\n",
       "</div>\n",
       "</div>\n",
       "</div>\n",
       "</a><a class=\"cta__box cta__box--s \" href=\"http://www.unhcr.org/en-us/news/stories/2018/10/5bc05fc14/imaginative-use-former-prison-opens-new-doors-refugees.html\" title=\"Imaginative use of former prison opens new doors for refugees   \"><div class=\"cta__box__wrapper\">\n",
       "<div class=\"cta__img \">\n",
       "<img alt=\"\" src=\"/thumb4/5bb3674a3.jpg\"/>\n",
       "</div>\n",
       "<div class=\"cta__info\">\n",
       "<h2>Imaginative use of former prison opens new doors for refugees   </h2>\n",
       "<p>\n",
       "A pop-up hotel and restaurant run by refugees have given new life to a forbidding Amsterdam building that once housed hardened criminals.</p>\n",
       "<div class=\"tag__wrapper\">\n",
       "<span>12 Oct 2018 </span>\n",
       "</div>\n",
       "</div>\n",
       "</div>\n",
       "</a><a class=\"cta__box cta__box--s \" href=\"http://www.unhcr.org/en-us/news/stories/2018/10/5bbb5f714/cameroonian-refugees-flee-clashes-find-safety-nigeria.html\" title=\"Cameroonian refugees flee clashes and find safety in Nigeria\"><div class=\"cta__box__wrapper\">\n",
       "<div class=\"cta__img \">\n",
       "<img alt=\"\" src=\"/thumb4/5ba39b6e4.jpg\"/>\n",
       "</div>\n",
       "<div class=\"cta__info\">\n",
       "<h2>Cameroonian refugees flee clashes and find safety in Nigeria</h2>\n",
       "<p>\n",
       "Violent clashes between military and armed separtists drive 26,000 Cameroonians over the border, where funding is still needed to provide assistance.</p>\n",
       "<div class=\"tag__wrapper\">\n",
       "<span>11 Oct 2018 </span>\n",
       "</div>\n",
       "</div>\n",
       "</div>\n",
       "</a><a class=\"cta__box cta__box--s \" href=\"http://www.unhcr.org/en-us/news/stories/2018/10/5bbdd1304/lebanon-iraqi-boy-autism-finds-escape-isolation.html\" title=\"In Lebanon, Iraqi boy with autism finds escape from isolation\"><div class=\"cta__box__wrapper\">\n",
       "<div class=\"cta__img \">\n",
       "<img alt=\"\" src=\"/thumb4/5bbda9363.jpg\"/>\n",
       "</div>\n",
       "<div class=\"cta__info\">\n",
       "<h2>In Lebanon, Iraqi boy with autism finds escape from isolation</h2>\n",
       "<p>\n",
       "Samer, 10, spent most of his life cut off from the outside world, until a UNHCR-funded community centre in Lebanon gave him a chance to connect with other kids.</p>\n",
       "<div class=\"tag__wrapper\">\n",
       "<span>10 Oct 2018 </span>\n",
       "</div>\n",
       "</div>\n",
       "</div>\n",
       "</a><a class=\"cta__box cta__box--s \" href=\"http://www.unhcr.org/en-us/news/stories/2018/10/5ba265274/campaign-aims-cut-rise-suicides-sparked-south-sudan-war.html\" title=\"Campaign aims to cut rise in suicides sparked by South Sudan war\"><div class=\"cta__box__wrapper\">\n",
       "<div class=\"cta__img \">\n",
       "<img alt=\"\" src=\"/thumb4/5b48a5463.jpg\"/>\n",
       "</div>\n",
       "<div class=\"cta__info\">\n",
       "<h2>Campaign aims to cut rise in suicides sparked by South Sudan war</h2>\n",
       "<p>\n",
       "Experts believe the negative effect of South Sudan's conflict on civilians' mental health has been staggering.</p>\n",
       "<div class=\"tag__wrapper\">\n",
       "<span>10 Oct 2018 </span>\n",
       "</div>\n",
       "</div>\n",
       "</div>\n",
       "</a><a class=\"cta__box cta__box--s \" href=\"http://www.unhcr.org/en-us/news/stories/2018/10/5bb71ad34/vulnerable-venezuelans-find-help-colombia.html\" title=\"Vulnerable Venezuelans find help in Colombia\"><div class=\"cta__box__wrapper\">\n",
       "<div class=\"cta__img \">\n",
       "<img alt=\"\" src=\"/thumb4/5bb71c9d3.jpg\"/>\n",
       "</div>\n",
       "<div class=\"cta__info\">\n",
       "<h2>Vulnerable Venezuelans find help in Colombia</h2>\n",
       "<p>\n",
       "Hundreds of thousands of children, women and men seek safety and security over the border.</p>\n",
       "<div class=\"tag__wrapper\">\n",
       "<span>5 Oct 2018 </span>\n",
       "</div>\n",
       "</div>\n",
       "</div>\n",
       "</a></div>"
      ]
     },
     "execution_count": 38,
     "metadata": {},
     "output_type": "execute_result"
    }
   ],
   "source": [
    "div_tag = doc.find_all('div', attrs = {'class': 'cta__wrapper'})"
   ]
  },
  {
   "cell_type": "code",
   "execution_count": 39,
   "metadata": {
    "collapsed": true
   },
   "outputs": [],
   "source": [
    "a_tag = div_tag[0].find_all('a', attrs = {'class': 'cta__box cta__box--s '} )\n",
    "# span_tag = div_tag[0].find_all('span')\n",
    "# span_list = str(span_tag[6])\n",
    "# span_list[16]"
   ]
  },
  {
   "cell_type": "code",
   "execution_count": 59,
   "metadata": {
    "collapsed": true
   },
   "outputs": [],
   "source": [
    "data = {}\n",
    "data['2018'] = []\n",
    "data['2017'] = []\n",
    "data['2016'] = []\n",
    "data['2015'] = []\n",
    "data['2014'] = []\n",
    "\n",
    "for i in range(63):\n",
    "    x = i*9\n",
    "    url = \"http://www.unhcr.org/en-us/stories.html?page=search&skip=\"+str(x)\n",
    "    resp_main= requests.get(url)\n",
    "    html_str = resp_main.text\n",
    "    doc = BeautifulSoup(html_str, \"html.parser\")\n",
    "    div_tag = doc.find_all('div', attrs = {'class': 'cta__wrapper'})\n",
    "    a_tag = div_tag[0].find_all('a', attrs = {'class': 'cta__box cta__box--s '} )\n",
    "    story_links_in_page = [item['href'] for item in a_tag]\n",
    "    \n",
    "    for item in story_links_in_page:\n",
    "#         total_list = []\n",
    "        resp = requests.get(item)\n",
    "        html_str = resp.text\n",
    "        doc = BeautifulSoup(html_str, \"html.parser\")\n",
    "        div_tag = doc.find_all('div', attrs = {'class': 'content'})\n",
    "    #     h1_tag = d.find_all('h1')\n",
    "    #     total_list.append(h1_tag)\n",
    "    #     h3_tag = div_tag[1].find_all('h3')\n",
    "    #     total_list.append(h3_tag)\n",
    "        p_tag = div_tag[1].find_all('p')\n",
    "        p = [str(item.string) for item in p_tag]\n",
    "        p_as_list = '\\n'.join(p)\n",
    "        if '2018' in item:\n",
    "            data['2018'].append(p_as_list)\n",
    "        elif '2017' in item:\n",
    "            data['2017'].append(p_as_list)\n",
    "        elif '2016' in item:\n",
    "            data['2016'].append(p_as_list)\n",
    "        elif '2015' in item:\n",
    "            data['2015'].append(p_as_list)\n",
    "        elif '2014' in item:\n",
    "            data['2014'].append(p_as_list)\n",
    "\n",
    "#         total_list.append(p_as_list)\n",
    "#         data[''].append(p_as_list)\n",
    "    time.sleep(0.5)"
   ]
  },
  {
   "cell_type": "code",
   "execution_count": 60,
   "metadata": {
    "collapsed": true
   },
   "outputs": [],
   "source": [
    "with open('data_with_years.json', 'w') as outfile:  \n",
    "    json.dump(data, outfile)"
   ]
  }
 ],
 "metadata": {
  "kernelspec": {
   "display_name": "Python 3",
   "language": "python",
   "name": "python3"
  },
  "language_info": {
   "codemirror_mode": {
    "name": "ipython",
    "version": 3
   },
   "file_extension": ".py",
   "mimetype": "text/x-python",
   "name": "python",
   "nbconvert_exporter": "python",
   "pygments_lexer": "ipython3",
   "version": "3.6.3"
  }
 },
 "nbformat": 4,
 "nbformat_minor": 2
}
