{
 "cells": [
  {
   "cell_type": "code",
   "execution_count": 8,
   "metadata": {
    "collapsed": true
   },
   "outputs": [],
   "source": [
    "import requests"
   ]
  },
  {
   "cell_type": "code",
   "execution_count": 9,
   "metadata": {
    "collapsed": true
   },
   "outputs": [],
   "source": [
    "import re"
   ]
  },
  {
   "cell_type": "code",
   "execution_count": 10,
   "metadata": {
    "collapsed": true
   },
   "outputs": [],
   "source": [
    "from bs4 import BeautifulSoup"
   ]
  },
  {
   "cell_type": "code",
   "execution_count": 11,
   "metadata": {
    "collapsed": true
   },
   "outputs": [],
   "source": [
    "import json"
   ]
  },
  {
   "cell_type": "code",
   "execution_count": 12,
   "metadata": {
    "collapsed": true
   },
   "outputs": [],
   "source": [
    "# allison's polite code\n",
    "import time"
   ]
  },
  {
   "cell_type": "code",
   "execution_count": 13,
   "metadata": {},
   "outputs": [],
   "source": [
    "resp_main= requests.get(\"http://www.unhcr.org/en-us/stories.html?page=search&skip=0\")"
   ]
  },
  {
   "cell_type": "code",
   "execution_count": 14,
   "metadata": {
    "collapsed": true
   },
   "outputs": [],
   "source": [
    "html_str = resp_main.text"
   ]
  },
  {
   "cell_type": "code",
   "execution_count": 15,
   "metadata": {
    "collapsed": true
   },
   "outputs": [],
   "source": [
    "doc = BeautifulSoup(html_str, \"html.parser\")"
   ]
  },
  {
   "cell_type": "code",
   "execution_count": 16,
   "metadata": {},
   "outputs": [],
   "source": [
    "div_tag = doc.find_all('div', attrs = {'class': 'cta__wrapper'})"
   ]
  },
  {
   "cell_type": "code",
   "execution_count": 39,
   "metadata": {
    "collapsed": true
   },
   "outputs": [],
   "source": [
    "a_tag = div_tag[0].find_all('a', attrs = {'class': 'cta__box cta__box--s '} )\n",
    "# span_tag = div_tag[0].find_all('span')\n",
    "# span_list = str(span_tag[6])\n",
    "# span_list[16]"
   ]
  },
  {
   "cell_type": "code",
   "execution_count": 59,
   "metadata": {
    "collapsed": true
   },
   "outputs": [],
   "source": [
    "data = {}\n",
    "data['2018'] = []\n",
    "data['2017'] = []\n",
    "data['2016'] = []\n",
    "data['2015'] = []\n",
    "data['2014'] = []\n",
    "\n",
    "for i in range(63):\n",
    "    x = i*9\n",
    "    url = \"http://www.unhcr.org/en-us/stories.html?page=search&skip=\"+str(x)\n",
    "    resp_main= requests.get(url)\n",
    "    html_str = resp_main.text\n",
    "    doc = BeautifulSoup(html_str, \"html.parser\")\n",
    "    div_tag = doc.find_all('div', attrs = {'class': 'cta__wrapper'})\n",
    "    a_tag = div_tag[0].find_all('a', attrs = {'class': 'cta__box cta__box--s '} )\n",
    "    story_links_in_page = [item['href'] for item in a_tag]\n",
    "    \n",
    "    for item in story_links_in_page:\n",
    "#         total_list = []\n",
    "        resp = requests.get(item)\n",
    "        html_str = resp.text\n",
    "        doc = BeautifulSoup(html_str, \"html.parser\")\n",
    "        div_tag = doc.find_all('div', attrs = {'class': 'content'})\n",
    "    #     h1_tag = d.find_all('h1')\n",
    "    #     total_list.append(h1_tag)\n",
    "    #     h3_tag = div_tag[1].find_all('h3')\n",
    "    #     total_list.append(h3_tag)\n",
    "        p_tag = div_tag[1].find_all('p')\n",
    "        p = [str(item.string) for item in p_tag]\n",
    "        p_as_list = '\\n'.join(p)\n",
    "        if '2018' in item:\n",
    "            data['2018'].append(p_as_list)\n",
    "        elif '2017' in item:\n",
    "            data['2017'].append(p_as_list)\n",
    "        elif '2016' in item:\n",
    "            data['2016'].append(p_as_list)\n",
    "        elif '2015' in item:\n",
    "            data['2015'].append(p_as_list)\n",
    "        elif '2014' in item:\n",
    "            data['2014'].append(p_as_list)\n",
    "\n",
    "#         total_list.append(p_as_list)\n",
    "#         data[''].append(p_as_list)\n",
    "    time.sleep(0.5)"
   ]
  },
  {
   "cell_type": "code",
   "execution_count": 60,
   "metadata": {
    "collapsed": true
   },
   "outputs": [],
   "source": [
    "with open('data_with_years.json', 'w') as outfile:  \n",
    "    json.dump(data, outfile)"
   ]
  }
 ],
 "metadata": {
  "kernelspec": {
   "display_name": "Python 3",
   "language": "python",
   "name": "python3"
  },
  "language_info": {
   "codemirror_mode": {
    "name": "ipython",
    "version": 3
   },
   "file_extension": ".py",
   "mimetype": "text/x-python",
   "name": "python",
   "nbconvert_exporter": "python",
   "pygments_lexer": "ipython3",
   "version": "3.6.3"
  }
 },
 "nbformat": 4,
 "nbformat_minor": 2
}
